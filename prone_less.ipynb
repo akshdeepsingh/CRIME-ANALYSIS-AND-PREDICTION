{
 "cells": [
  {
   "cell_type": "code",
   "execution_count": 14,
   "metadata": {},
   "outputs": [
    {
     "name": "stderr",
     "output_type": "stream",
     "text": [
      "C:\\Users\\DEll\\Anaconda3\\lib\\site-packages\\sklearn\\ensemble\\forest.py:246: FutureWarning: The default value of n_estimators will change from 10 in version 0.20 to 100 in 0.22.\n",
      "  \"10 in version 0.20 to 100 in 0.22.\", FutureWarning)\n"
     ]
    }
   ],
   "source": [
    "from sklearn import model_selection\n",
    "from sklearn.tree import DecisionTreeClassifier\n",
    "from sklearn.ensemble import RandomForestClassifier, GradientBoostingClassifier\n",
    "from sklearn.naive_bayes import BernoulliNB \n",
    "\n",
    "import pandas as  pd\n",
    "import numpy as np\n",
    "import math\n",
    "data = pd.read_csv(\"C:\\\\users\\\\DELL\\\\Desktop\\\\crime.csv\") \n",
    "data.head()\n",
    "data['status'] = ((data['MURDER']*8+\n",
    "                           data['ATTEMPT TO MURDER']*8+\n",
    "                           data['CULPABLE HOMICIDE NOT AMOUNTING TO MURDER']*7+\n",
    "                           data['CUSTODIAL RAPE']*10+\n",
    "                           data['OTHER RAPE']*10+\n",
    "                           data['KIDNAPPING AND ABDUCTION OF OTHERS']*8+\n",
    "                           data['AUTO THEFT']*7+data['OTHER THEFT']*6+\n",
    "                           data['RIOTS']*7+data['CHEATING']*7+\n",
    "                           data['HURT/GREVIOUS HURT']*7+\n",
    "                           data['DOWRY DEATHS']*10+\n",
    "                           data['CRUELTY BY HUSBAND OR HIS RELATIVES']*9+\n",
    "                           data['IMPORTATION OF GIRLS FROM FOREIGN COUNTRIES']*8+\n",
    "                           data['CAUSING DEATH BY NEGLIGENCE']*8+data['OTHER IPC CRIMES']*8+\n",
    "                           data['TOTAL IPC CRIMES']*7))\n",
    "#data\n",
    "\n",
    "def status2(x):\n",
    "    if x>100000:\n",
    "        return (\"crime prone\")\n",
    "    else :\n",
    "        return ( \"crime less\")\n",
    "data['crime_status'] = data['status'].apply(status2)\n",
    "\n",
    "dataframe=pd.DataFrame(data)\n",
    "array = dataframe.values\n",
    "\n",
    "X1 = array[:,3:9]\n",
    "\n",
    "Y1 = array[:,21]\n",
    "\n",
    "clf = RandomForestClassifier()\n",
    "fclf = clf.fit(X1,Y1)"
   ]
  },
  {
   "cell_type": "code",
   "execution_count": 15,
   "metadata": {},
   "outputs": [
    {
     "name": "stdout",
     "output_type": "stream",
     "text": [
      "['crime less']\n",
      "['crime prone']\n"
     ]
    }
   ],
   "source": [
    "P1=[[101, 50, 16 ,175,54,45]]\n",
    "result=str(fclf.predict(P1))\n",
    "#messagebox.showinfo (title= 'Result' , message=\"Hello\" '%s \\n As per the calculation, \\n You are %s' %(name,result))\n",
    "print(result)\n",
    "\n",
    "P2=[[111, 37, 24 ,746,453,65]]\n",
    "result=str(fclf.predict(P2))\n",
    "#messagebox.showinfo (title= 'Result' , message=\"Hello\" '%s \\n As per the calculation, \\n You are %s' %(name,result))\n",
    "print(result)"
   ]
  },
  {
   "cell_type": "code",
   "execution_count": 16,
   "metadata": {},
   "outputs": [
    {
     "name": "stdout",
     "output_type": "stream",
     "text": [
      "no. of murders 1242\n",
      "no. of rapes 24\n",
      "no. of dowry deaths 2154\n",
      "no. of cases CRUELTY BY HUSBAND OR HIS RELATIVES  214\n",
      "no. of CULPABLE HOMICIDE NOT AMOUNTING TO MURDER 21\n",
      "no. of KIDNAPPING AND ABDUCTION OF OTHERS 112\n",
      "['crime prone']\n"
     ]
    }
   ],
   "source": [
    "m = input (\"no. of murders \")\n",
    "r = input (\"no. of rapes \")\n",
    "d = input (\"no. of dowry deaths \")\n",
    "c = input (\"no. of cases CRUELTY BY HUSBAND OR HIS RELATIVES  \")\n",
    "cu = input (\"no. of CULPABLE HOMICIDE NOT AMOUNTING TO MURDER \")\n",
    "k = input (\"no. of KIDNAPPING AND ABDUCTION OF OTHERS \")\n",
    "\n",
    "\n",
    " \n",
    "P2=[[m, r, d , c,cu,k]]\n",
    "result=str(fclf.predict(P2))\n",
    "print(result)"
   ]
  },
  {
   "cell_type": "code",
   "execution_count": null,
   "metadata": {},
   "outputs": [],
   "source": [
    "from tkinter import *\n",
    "from sklearn import model_selection\n",
    "from sklearn.tree import DecisionTreeClassifier\n",
    "from sklearn.ensemble import RandomForestClassifier, GradientBoostingClassifier\n",
    "from sklearn.naive_bayes import BernoulliNB \n",
    "\n",
    "import pandas\n",
    "import numpy as np\n",
    "import math\n",
    "from tkinter import messagebox as m_box\n",
    "\n",
    "from PIL import ImageTk, Image\n",
    "\n",
    "\n",
    "\n",
    "\n",
    "\n",
    "\n",
    "def show_entry_fields():\n",
    "        print(\"MURDER: %s\\nRAPES %s\\nDOWRY DEATHS %s\\nCRUELTY BY HUSBAND OR HIS RELATIVES %s\\nCULPABLE HOMICIDE NOT AMOUNTING TO MURDER %s\\nKIDNAPPING AND ABDUCTION OF OTHERS %s\\nAUTO THEFT %s\\nOTHER THEFT %s\\nRIOTS %s\\nCHEATING %s\\nIMPORTATION OF GIRLS FROM FOREIGN COUNTRIES %s\\nCAUSING DEATH BY NEGLIGENCE: %s\" % (e1.get(), e2.get() , e3.get(), e4.get()  , e5.get() , e6.get() , e7.get(), e8.get() ,e9.get(), e10.get(),e11.get()))\n",
    "\n",
    "master = Tk()\n",
    "master.title('PREDICT CITIES')\n",
    "\n",
    "\n",
    "master.geometry(\"1400x700\")\n",
    "\n",
    "\n",
    "\n",
    "\n",
    "\n",
    "\n",
    "\n",
    "\n",
    "\n",
    "\n",
    "\n",
    "\n",
    "Label(master, text=\"MURDER\").grid(row=0 , column = 10)\n",
    "Label(master, text=\"RAPES\").grid(row=1 , column = 10)\n",
    "Label(master, text=\"DOWRY DEATHS\").grid(row=2, column = 10)\n",
    "Label(master, text=\"CRUELTY BY HUSBAND OR HIS RELATIVES\").grid(row=3, column = 10)\n",
    "Label(master, text=\"CULPABLE HOMICIDE NOT AMOUNTING TO MURDER\").grid(row=4 , column = 10)\n",
    "Label(master, text=\"KIDNAPPING AND ABDUCTION OF OTHERS\").grid(row=5 , column = 10)\n",
    "\n",
    "\n",
    "\n",
    "                           \n",
    "\n",
    "\n",
    "\n",
    "e1 = Entry(master)\n",
    "e2 = Entry(master)\n",
    "e3 = Entry(master)\n",
    "e4 = Entry(master)\n",
    "e5 = Entry(master)\n",
    "e6 = Entry(master)\n",
    "\n",
    "\n",
    "\n",
    "e1.grid(row=0, column=11)\n",
    "e2.grid(row=1, column=11)\n",
    "e3.grid(row=2, column=11)\n",
    "e4.grid(row=3, column=11)\n",
    "e5.grid(row=4, column=11)\n",
    "e6.grid(row=5, column=11)\n",
    "\n",
    "\n",
    "\n",
    "\n",
    "def submit():\n",
    "    # m_box.showwarning('title', 'content of this message box !! ')\n",
    "    m=e1.get()\n",
    "    m=e2.get()\n",
    "    m=e3.get()\n",
    "    m=e4.get()\n",
    "    m=e5.get()\n",
    "    m=e6.get()\n",
    "    \n",
    "\n",
    "    \n",
    "    \n",
    "    P2=[[m, r, d , c,cu, k]]\n",
    "    result=str(fclf.predict(P2))\n",
    "    #result = 'crime'\n",
    "    m_box.showerror('PREDICTION', result)\n",
    "\n",
    "\n",
    "\n",
    "\n",
    "\n",
    "Button(master, text='QUIT', command=master.quit).grid(row=12, column=0, sticky=W, pady=4)\n",
    "Button(master, text='PREDICT', command=submit).grid(row=12, column=11, sticky=W, pady=4)\n",
    "\n",
    "\n",
    "\n",
    "\n",
    "\n",
    "\n",
    "\n",
    "\n",
    "#submit_btn = ttk.Button(master, text = 'Submit', command=submit)\n",
    "\n",
    "\n",
    "\n",
    "master.mainloop()\n",
    "\n",
    "\n",
    "\n",
    "\n",
    "\n",
    "\n",
    "\n",
    "\n"
   ]
  },
  {
   "cell_type": "code",
   "execution_count": null,
   "metadata": {},
   "outputs": [],
   "source": []
  },
  {
   "cell_type": "markdown",
   "metadata": {},
   "source": [
    "import os\n",
    "print(os.getcwd())\n",
    "print(os.listdir())"
   ]
  },
  {
   "cell_type": "code",
   "execution_count": 21,
   "metadata": {},
   "outputs": [
    {
     "data": {
      "text/plain": [
       "'C:\\\\Users\\\\DEll\\\\Desktop'"
      ]
     },
     "execution_count": 21,
     "metadata": {},
     "output_type": "execute_result"
    }
   ],
   "source": [
    "pwd"
   ]
  },
  {
   "cell_type": "code",
   "execution_count": null,
   "metadata": {},
   "outputs": [],
   "source": []
  }
 ],
 "metadata": {
  "kernelspec": {
   "display_name": "Python 3",
   "language": "python",
   "name": "python3"
  },
  "language_info": {
   "codemirror_mode": {
    "name": "ipython",
    "version": 3
   },
   "file_extension": ".py",
   "mimetype": "text/x-python",
   "name": "python",
   "nbconvert_exporter": "python",
   "pygments_lexer": "ipython3",
   "version": "3.7.1"
  }
 },
 "nbformat": 4,
 "nbformat_minor": 2
}
